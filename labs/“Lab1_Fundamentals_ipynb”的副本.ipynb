{
  "cells": [
    {
      "cell_type": "markdown",
      "id": "fea96cfa",
      "metadata": {
        "id": "fea96cfa"
      },
      "source": [
        "# Lab Assignment 1 -- Fundamentals\n",
        "In this lab, you will complete a series of exercises related to the lecture material on coding fundamentals and collections.\n",
        "\n",
        "Since this is the first lab that involves coding, we will begin with an exercise related to Jupyter notebook functionality."
      ]
    },
    {
      "cell_type": "markdown",
      "id": "5b0e6098",
      "metadata": {
        "id": "5b0e6098"
      },
      "source": [
        "## Exercise 1 -- Jupyter Markdown Basics\n",
        "Jupyter notebooks allows cells to be interpreted as either code or Markdown. Markdown is a lightweight formatting language. In fact, what you're reading right now is written in Markdown. The syntax is very simple and a reference for common commands can be found [here](https://www.markdownguide.org/cheat-sheet/). Use this reference guide to complete the following steps:\n",
        "\n",
        "1. Create a cell below this one by using the insert drop down menu or by clicking on the left of this box (so the side bar turns blue) and tapping the <kbd>b</kbd> key.\n",
        "2. Make the cell a Markdown cell by clicking on it and using the drop down menu above.\n",
        "3. Using the reference guide, find out how to create the **smallest** heading  and use it give the cell you create a header of \"Solution to Exercise 1\" without the quotes.\n",
        "4. Using the reference guide, figure out how to make ordered and unordered lists. Using an unordered list, list three of the things you hope to learn from this class.\n",
        "5. Sometimes, we want to reference specific code or code objects in the text of Markdown. Markdown allows us to format such reference so that it appears in a gray box (e.g. `x=3`). Using the reference guide, figure out how to format code and format  x = 3, so it has a gray box around it in the cell you created."
      ]
    },
    {
      "cell_type": "markdown",
      "source": [
        "### Solution to Exercise 1\n",
        "- The basic knowledge of Python\n",
        "- Get familiar with some frequently-used modules\n",
        "- For a beginner of Python, how can I use AI porperly\n",
        "\n",
        "`x=3`\n",
        "\n"
      ],
      "metadata": {
        "id": "2L2sENgt5ali"
      },
      "id": "2L2sENgt5ali"
    },
    {
      "cell_type": "markdown",
      "id": "7835167d",
      "metadata": {
        "id": "7835167d"
      },
      "source": [
        "## Exercise 2 -- Basic Variable Assignment\n",
        "Complete the following steps in the cells below.\n",
        "1. Generate a variable called `x_flt` and set it equal to 3.0. Print its type.\n",
        "2. Generate a variable called `x_int` and set it equal to 3. Print its type.\n",
        "3. Generate a variable called  `x_str` and set it equal to \"3\". Print its type.\n",
        "4. Which of these two variables can you add together with the `+` operator? Why? Answer in the Markdown cell below."
      ]
    },
    {
      "cell_type": "code",
      "id": "8c80cd8e",
      "metadata": {
        "colab": {
          "base_uri": "https://localhost:8080/"
        },
        "id": "8c80cd8e",
        "outputId": "64620096-14c1-4a76-c2e5-144de7862039"
      },
      "source": [
        "# Exercise 2 Code\n",
        "x_flt = 3.0\n",
        "print(type(x_flt))\n",
        "x_int = 3\n",
        "print(type(x_int))\n",
        "x_str = \"3\"\n",
        "print(type(x_str))"
      ],
      "outputs": [
        {
          "output_type": "stream",
          "name": "stdout",
          "text": [
            "<class 'float'>\n",
            "<class 'int'>\n",
            "<class 'str'>\n"
          ]
        }
      ],
      "execution_count": null
    },
    {
      "cell_type": "markdown",
      "id": "70b8adf0",
      "metadata": {
        "id": "70b8adf0"
      },
      "source": [
        "### Response to 2.4\n",
        "ints and floats can be added together\n",
        "\n",
        "different strs can be added together\n",
        "\n",
        "ints and strings can not be directly added together"
      ]
    },
    {
      "cell_type": "markdown",
      "id": "9db99652",
      "metadata": {
        "id": "9db99652"
      },
      "source": [
        "## Exercise 3 -- Variable Reassignment\n",
        "Complete the following steps in the cells below.\n",
        "1. Assign `x` equal to `\"good\"`\n",
        "2. Assign `y` equal to `x`\n",
        "3. Reassign `x` to `\"bad\"`\n",
        "4. Use `print` to print `y`\n",
        "5. Does the print statement print \"good\" or a \"bad\"? Did changing `x` to \"bad\" affect anything? Why or why not? Answer in the Markdown cell below."
      ]
    },
    {
      "cell_type": "code",
      "id": "9c154552",
      "metadata": {
        "scrolled": true,
        "colab": {
          "base_uri": "https://localhost:8080/"
        },
        "id": "9c154552",
        "outputId": "968bf9ac-9672-4fd6-ac92-6a7559c19f15"
      },
      "source": [
        "# Exercise 3 Code\n",
        "x = \"good\"\n",
        "y = x\n",
        "x = \"bad\"\n",
        "print(y)\n"
      ],
      "outputs": [
        {
          "output_type": "stream",
          "name": "stdout",
          "text": [
            "good\n"
          ]
        }
      ],
      "execution_count": null
    },
    {
      "cell_type": "markdown",
      "id": "b24737e5",
      "metadata": {
        "id": "b24737e5"
      },
      "source": [
        "### Response to 3.5\n",
        "Because when assigning y = x, a copy of the value of x (which is \"good\") is assigned to y. Reassigning x to \"bad\" afterwards does not affect the value of y."
      ]
    },
    {
      "cell_type": "markdown",
      "id": "4700d845",
      "metadata": {
        "id": "4700d845"
      },
      "source": [
        "## Exercise 4 -- Basic Arithmetic\n",
        "Generate the following variables with the corresponding value in the cell below:\n",
        "1. `x` equal to 20\n",
        "2. `y` equal to 10\n",
        "3. `z1` equal to the sum of `x` and `y`\n",
        "4. `z2` equal to `x` minus `y`\n",
        "5. `z3` equal to `x` times `y`\n",
        "6. `z4` equal to `x` divided by `y`\n",
        "\n",
        "Answer the following question in the Markdown Cell Below\n",
        "\n",
        "7. Use `type()` to deterimine which of these variables is a floating point number? Why is this the case?"
      ]
    },
    {
      "cell_type": "code",
      "id": "564b49ec",
      "metadata": {
        "colab": {
          "base_uri": "https://localhost:8080/"
        },
        "id": "564b49ec",
        "outputId": "596c8018-4c51-44df-df76-41c3e4d920bb"
      },
      "source": [
        "# Exercise 4 Code\n",
        "x = 20\n",
        "y = 10\n",
        "z1 = x + y\n",
        "z2 = x - y\n",
        "z3 = x * y\n",
        "z4 = x / y\n",
        "print(type(z1))\n",
        "print(type(z2))\n",
        "print(type(z3))\n",
        "print(type(z4))"
      ],
      "outputs": [
        {
          "output_type": "stream",
          "name": "stdout",
          "text": [
            "<class 'int'>\n",
            "<class 'int'>\n",
            "<class 'int'>\n",
            "<class 'float'>\n"
          ]
        }
      ],
      "execution_count": null
    },
    {
      "cell_type": "markdown",
      "id": "ac2063f9",
      "metadata": {
        "id": "ac2063f9"
      },
      "source": [
        "### Response to 4.7\n",
        "z4 is the floating point number, because in Python, the “/“ operator always performs floating-point division, even if the result is a whole number."
      ]
    },
    {
      "metadata": {
        "id": "2024ad69c823f131"
      },
      "cell_type": "markdown",
      "source": [
        "## Exercise 5 -- String Formatting\n",
        "Complete the following steps in the cell below:\n",
        "1. Define a list called `cities` that contains the names of three cities you would like to visit.\n",
        "2. Define a corresponding list called `countries` where an entry is the country of each of those three cities.\n",
        "3. Using these lists and f strings, print a sentence that says what country a city is in for each city in your list\n",
        "4. Now do the same thing again but use the `.format()` method instead of f strings."
      ],
      "id": "2024ad69c823f131"
    },
    {
      "cell_type": "code",
      "source": [],
      "metadata": {
        "id": "LOY8-6H34iC-"
      },
      "id": "LOY8-6H34iC-",
      "execution_count": null,
      "outputs": []
    },
    {
      "metadata": {
        "colab": {
          "base_uri": "https://localhost:8080/"
        },
        "id": "4bb3c5643a0ee99e",
        "outputId": "cedbaf10-6c98-454f-935d-9b0abb0430da"
      },
      "cell_type": "code",
      "source": [
        "# Exercise 5 Code\n",
        "cities = [\"Xizang\", \"Edinburgh\", \"Paris\"]\n",
        "countries = [\"China\", \"Scotland\", \"France\"]\n",
        "string_1 = f\"{cities} is in {countries}.\"\n",
        "print(string_1)"
      ],
      "id": "4bb3c5643a0ee99e",
      "outputs": [
        {
          "output_type": "stream",
          "name": "stdout",
          "text": [
            "['Xizang', 'Edinburgh', 'Paris'] is in ['China', 'Scotland', 'France'].\n"
          ]
        }
      ],
      "execution_count": null
    },
    {
      "cell_type": "code",
      "source": [
        "f\"{cities[0]} is in {countries[0]}.\" #一种方法"
      ],
      "metadata": {
        "id": "1Fr4woVqBrnK",
        "outputId": "30ee858e-f93d-45fe-ed2b-f707f34e8654",
        "colab": {
          "base_uri": "https://localhost:8080/",
          "height": 35
        }
      },
      "id": "1Fr4woVqBrnK",
      "execution_count": null,
      "outputs": [
        {
          "output_type": "execute_result",
          "data": {
            "text/plain": [
              "'Xizang is in China.'"
            ],
            "application/vnd.google.colaboratory.intrinsic+json": {
              "type": "string"
            }
          },
          "metadata": {},
          "execution_count": 4
        }
      ]
    },
    {
      "cell_type": "code",
      "source": [
        "for city, country in zip(cities, countries): #另一种方法，使用for 这里的city，country只是起一个hint的作用，可以换成任意东西。\n",
        "    print(f\"{l} is in {country}.\")"
      ],
      "metadata": {
        "id": "sVrBGOm-Bdq9",
        "outputId": "2343ed92-d424-4ac5-9d8c-0365f4d32962",
        "colab": {
          "base_uri": "https://localhost:8080/"
        }
      },
      "id": "sVrBGOm-Bdq9",
      "execution_count": null,
      "outputs": [
        {
          "output_type": "stream",
          "name": "stdout",
          "text": [
            "Xizang is in China.\n",
            "Edinburgh is in Scotland.\n",
            "Paris is in France.\n"
          ]
        }
      ]
    },
    {
      "cell_type": "code",
      "source": [
        "print(string_1.format(cities = cities, countries = countries))\n",
        "print(\"{city} is in {country}.\".format(city = cities[0], country = countries[0])) #同样地，此处city，country也可以替换为比如：a，b\n",
        "print(\"{l} is in {m}.\".format(l = cities[1], m = countries[1]))"
      ],
      "metadata": {
        "colab": {
          "base_uri": "https://localhost:8080/"
        },
        "id": "opoDAn08ELxF",
        "outputId": "2d0bbd1e-ce49-4b3c-9663-ca6b8cd2fdb2"
      },
      "id": "opoDAn08ELxF",
      "execution_count": null,
      "outputs": [
        {
          "output_type": "stream",
          "name": "stdout",
          "text": [
            "['Xizang', 'Edinburgh', 'Paris'] is in ['China', 'Scotland', 'France'].\n",
            "Xizang is in China.\n",
            "Edinburgh is in Scotland.\n"
          ]
        }
      ]
    },
    {
      "cell_type": "code",
      "source": [
        "name = 'Daniel'\n",
        "print(f\"My name is {name}\") #两种方式：f和format\n",
        "\n",
        "print(\"My name is {l}\".format(l = \"Dario\"))"
      ],
      "metadata": {
        "id": "EiqlMEphCPa8",
        "outputId": "86502b95-ce6e-41fb-fe58-90b98c5dcacf",
        "colab": {
          "base_uri": "https://localhost:8080/"
        }
      },
      "id": "EiqlMEphCPa8",
      "execution_count": null,
      "outputs": [
        {
          "output_type": "stream",
          "name": "stdout",
          "text": [
            "My name is Daniel\n",
            "My name is Dario\n"
          ]
        }
      ]
    },
    {
      "metadata": {
        "id": "fce68f68177b1995"
      },
      "cell_type": "markdown",
      "source": [
        "## Exercise 6 -- String Concatenation\n",
        "Complete the following steps in the cell below:\n",
        "1. Assign `b` to be equal to \"b\"\n",
        "2. Assign `a` to be equal to \"a\"\n",
        "3. Assign `n` to be equal to \"n\"\n",
        "4. Using these variables, `+`, and `print`, print the the word \"banana\""
      ],
      "id": "fce68f68177b1995"
    },
    {
      "metadata": {
        "id": "7cd33ad42612cc2",
        "colab": {
          "base_uri": "https://localhost:8080/"
        },
        "outputId": "d511612a-b7ee-47e2-f118-4edf3f4a56c5"
      },
      "cell_type": "code",
      "source": [
        "# Exercise 6 Code\n",
        "b = \"b\"\n",
        "a = \"a\"\n",
        "n = \"n\"\n",
        "print(b + a + n + a + n + a)"
      ],
      "id": "7cd33ad42612cc2",
      "outputs": [
        {
          "output_type": "stream",
          "name": "stdout",
          "text": [
            "banana\n"
          ]
        }
      ],
      "execution_count": null
    },
    {
      "metadata": {
        "id": "293a4c9fc698f9d9"
      },
      "cell_type": "markdown",
      "source": [
        "## Exercise 7 -- Boolean Variable Keywords\n",
        "Assign `a`, `b`,`c`, and `d`, so that every print statement below is true.\n",
        "\n",
        "\n",
        "Afterwards, answer the following quesiton in the Markdown cell below:\n",
        "\n",
        "Is the configuration of `a`, `b`,`c`, and `d` that makes both statements true unique? Why or why not? If it isn't unique, add another print statement to the list to rule out other configurations?"
      ],
      "id": "293a4c9fc698f9d9"
    },
    {
      "metadata": {
        "id": "6a5495628c88bf25"
      },
      "cell_type": "code",
      "source": [
        "# Exercise 7 Code\n",
        "a = True\n",
        "b = False\n",
        "c = False\n",
        "d = False"
      ],
      "id": "6a5495628c88bf25",
      "outputs": [],
      "execution_count": null
    },
    {
      "metadata": {
        "id": "5c6037cdfe69c6aa",
        "colab": {
          "base_uri": "https://localhost:8080/"
        },
        "outputId": "857be8d8-6995-4c74-d762-6f9eb6e0c51d"
      },
      "cell_type": "code",
      "source": [
        "# Uncomment the lines below when you have defined the variables to check your results\n",
        "print(((a and b) or (c and d)) == False)\n",
        "print(((a or c) and (b or d)) == False)\n",
        "print(a and (not b) and (not c) and (not d))"
      ],
      "id": "5c6037cdfe69c6aa",
      "outputs": [
        {
          "output_type": "stream",
          "name": "stdout",
          "text": [
            "True\n",
            "True\n",
            "True\n"
          ]
        }
      ],
      "execution_count": null
    },
    {
      "metadata": {
        "id": "30b05eee2d5938e9"
      },
      "cell_type": "code",
      "source": [],
      "id": "30b05eee2d5938e9",
      "outputs": [],
      "execution_count": null
    }
  ],
  "metadata": {
    "kernelspec": {
      "display_name": "Python 3 (ipykernel)",
      "language": "python",
      "name": "python3"
    },
    "language_info": {
      "codemirror_mode": {
        "name": "ipython",
        "version": 3
      },
      "file_extension": ".py",
      "mimetype": "text/x-python",
      "name": "python",
      "nbconvert_exporter": "python",
      "pygments_lexer": "ipython3",
      "version": "3.9.15"
    },
    "colab": {
      "provenance": []
    }
  },
  "nbformat": 4,
  "nbformat_minor": 5
}